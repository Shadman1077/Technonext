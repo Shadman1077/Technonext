{
 "cells": [
  {
   "cell_type": "code",
   "execution_count": 2,
   "metadata": {},
   "outputs": [
    {
     "name": "stderr",
     "output_type": "stream",
     "text": [
      "c:\\Users\\Lenovo\\AppData\\Local\\Programs\\Python\\Python310\\lib\\site-packages\\tqdm\\auto.py:21: TqdmWarning: IProgress not found. Please update jupyter and ipywidgets. See https://ipywidgets.readthedocs.io/en/stable/user_install.html\n",
      "  from .autonotebook import tqdm as notebook_tqdm\n"
     ]
    }
   ],
   "source": [
    "import pandas as pd\n",
    "from transformers import pipeline\n",
    "from sklearn.model_selection import train_test_split\n",
    "from transformers import BertTokenizer\n",
    "from transformers import BertForTokenClassification,Trainer, TrainingArguments\n",
    "import torch"
   ]
  },
  {
   "cell_type": "markdown",
   "metadata": {},
   "source": [
    "# Load dataset"
   ]
  },
  {
   "cell_type": "code",
   "execution_count": 3,
   "metadata": {},
   "outputs": [],
   "source": [
    "train_data =pd.read_csv('atis_train.csv')\n",
    "train_text = train_data['text'].tolist()\n",
    "train_labels = train_data['intent'].tolist()"
   ]
  },
  {
   "cell_type": "code",
   "execution_count": 4,
   "metadata": {},
   "outputs": [],
   "source": [
    "test_data = pd.read_csv('atis_test.csv')\n",
    "test_text = test_data['text'].tolist()\n",
    "test_labels =test_data['intent'].tolist()"
   ]
  },
  {
   "cell_type": "code",
   "execution_count": 5,
   "metadata": {},
   "outputs": [
    {
     "name": "stdout",
     "output_type": "stream",
     "text": [
      "   id       intent                                               text  \\\n",
      "0   0       flight  i want to fly from boston at 838 am and arrive...   \n",
      "1   1       flight  what flights are available from pittsburgh to ...   \n",
      "2   2  flight_time  what is the arrival time in san francisco for ...   \n",
      "3   3      airfare            cheapest airfare from tacoma to orlando   \n",
      "4   4      airfare  round trip fares from pittsburgh to philadelph...   \n",
      "\n",
      "                                               slots  \n",
      "0  O O O O O B-fromloc.city_name O B-depart_time....  \n",
      "1  O O O O O B-fromloc.city_name O B-toloc.city_n...  \n",
      "2  O O O B-flight_time I-flight_time O B-fromloc....  \n",
      "3  B-cost_relative O O B-fromloc.city_name O B-to...  \n",
      "4  B-round_trip I-round_trip O O B-fromloc.city_n...  \n",
      "   id   intent                                               text  \\\n",
      "0   0   flight  i would like to find a flight from charlotte t...   \n",
      "1   1  airfare  on april first i need a ticket from tacoma to ...   \n",
      "2   2   flight  on april first i need a flight going from phoe...   \n",
      "3   3   flight  i would like a flight traveling one way from p...   \n",
      "4   4   flight  i would like a flight from orlando to salt lak...   \n",
      "\n",
      "                                               slots  \n",
      "0  O O O O O O O O B-fromloc.city_name O B-toloc....  \n",
      "1  O B-depart_date.month_name B-depart_date.day_n...  \n",
      "2  O B-depart_date.month_name B-depart_date.day_n...  \n",
      "3  O O O O O O B-round_trip I-round_trip O B-from...  \n",
      "4  O O O O O O B-fromloc.city_name O B-toloc.city...  \n"
     ]
    }
   ],
   "source": [
    "print(train_data.head())\n",
    "print(test_data.head())"
   ]
  },
  {
   "cell_type": "markdown",
   "metadata": {},
   "source": [
    "# combine dataset"
   ]
  },
  {
   "cell_type": "code",
   "execution_count": 6,
   "metadata": {},
   "outputs": [],
   "source": [
    "combined_data = pd.concat([train_data[['text', 'intent', 'slots']],\n",
    "                            test_data[['text', 'intent']]])"
   ]
  },
  {
   "cell_type": "code",
   "execution_count": 7,
   "metadata": {},
   "outputs": [],
   "source": [
    "# Split the combined data into train and test sets (adjust test_size as needed)\n",
    "train_set, test_set = train_test_split(combined_data, test_size=0.2, random_state=42)\n"
   ]
  },
  {
   "cell_type": "markdown",
   "metadata": {},
   "source": [
    " # Select samples relevant to return date and time information"
   ]
  },
  {
   "cell_type": "code",
   "execution_count": 8,
   "metadata": {},
   "outputs": [],
   "source": [
    "\n",
    "return_date_time_samples = combined_data[combined_data['intent'].isin\n",
    "                                         (['flight_time', 'airfare'])]"
   ]
  },
  {
   "cell_type": "markdown",
   "metadata": {},
   "source": [
    "# Initialize BERT tokenizer"
   ]
  },
  {
   "cell_type": "code",
   "execution_count": 9,
   "metadata": {},
   "outputs": [],
   "source": [
    "tokenizer = BertTokenizer.from_pretrained('bert-base-uncased')"
   ]
  },
  {
   "cell_type": "markdown",
   "metadata": {},
   "source": [
    "# Tokenize and label data"
   ]
  },
  {
   "cell_type": "code",
   "execution_count": 10,
   "metadata": {},
   "outputs": [],
   "source": [
    "tokenized_texts = []\n",
    "labels = []\n",
    "\n",
    "for text in return_date_time_samples['text']:\n",
    "    encoded_input = tokenizer.encode_plus(text, add_special_tokens=True, return_tensors='pt', return_attention_mask=True)\n",
    "    tokens = tokenizer.convert_ids_to_tokens(encoded_input['input_ids'][0])\n",
    "    tokenized_texts.append(tokens)\n",
    "    \n",
    "    labels_per_text = ['O'] * len(tokens)\n",
    "    # Logic to identify and label return date and time entities\n",
    "    # Modify this part to suit your specific entity labeling requirements\n",
    "    \n",
    "    labels.append(labels_per_text)"
   ]
  },
  {
   "cell_type": "markdown",
   "metadata": {},
   "source": [
    "# data frame with tokenized text and label"
   ]
  },
  {
   "cell_type": "code",
   "execution_count": 11,
   "metadata": {},
   "outputs": [],
   "source": [
    "preprocessed_data = pd.DataFrame({'text_tokens': tokenized_texts, 'labels': labels})"
   ]
  },
  {
   "cell_type": "markdown",
   "metadata": {},
   "source": [
    "# split the preprocessed data"
   ]
  },
  {
   "cell_type": "code",
   "execution_count": 12,
   "metadata": {},
   "outputs": [],
   "source": [
    "train_set, test_set = train_test_split(preprocessed_data, test_size=0.2, random_state=42)"
   ]
  },
  {
   "cell_type": "markdown",
   "metadata": {},
   "source": [
    "# Save preprocessed data"
   ]
  },
  {
   "cell_type": "code",
   "execution_count": 13,
   "metadata": {},
   "outputs": [],
   "source": [
    "train_set.to_csv('train_set.csv',index=False)\n",
    "test_set.to_csv('test_set.csv',index=False)"
   ]
  },
  {
   "cell_type": "markdown",
   "metadata": {},
   "source": [
    "# Load preprocessed train data"
   ]
  },
  {
   "cell_type": "code",
   "execution_count": 14,
   "metadata": {},
   "outputs": [],
   "source": [
    "train_set = pd.read_csv('train_set.csv')"
   ]
  },
  {
   "cell_type": "markdown",
   "metadata": {},
   "source": [
    "# Fine tuning model(BERT)"
   ]
  },
  {
   "cell_type": "code",
   "execution_count": 15,
   "metadata": {},
   "outputs": [
    {
     "name": "stderr",
     "output_type": "stream",
     "text": [
      "Some weights of BertForTokenClassification were not initialized from the model checkpoint at bert-base-uncased and are newly initialized: ['classifier.weight', 'classifier.bias']\n",
      "You should probably TRAIN this model on a down-stream task to be able to use it for predictions and inference.\n"
     ]
    }
   ],
   "source": [
    "model = BertForTokenClassification.from_pretrained('bert-base-uncased',\n",
    "                                                    num_labels=len(labels))\n"
   ]
  },
  {
   "cell_type": "markdown",
   "metadata": {},
   "source": [
    "# Set up training arguments"
   ]
  },
  {
   "cell_type": "code",
   "execution_count": 16,
   "metadata": {},
   "outputs": [],
   "source": [
    "\n",
    "training_args = TrainingArguments(\n",
    "    output_dir='./results',  # Output directory for checkpoints and predictions\n",
    "    num_train_epochs=10,      # Number of training epochs\n",
    "    per_device_train_batch_size=16,  # Batch size per GPU\n",
    "    logging_dir='./logs',    # Directory for TensorBoard logs\n",
    "    logging_steps=500,       # Log metrics every X steps\n",
    "    save_steps=1000,         # Save checkpoint every X steps\n",
    "    learning_rate=2e-5,      # Learning rate\n",
    ")"
   ]
  },
  {
   "cell_type": "code",
   "execution_count": null,
   "metadata": {},
   "outputs": [],
   "source": []
  }
 ],
 "metadata": {
  "kernelspec": {
   "display_name": "Python 3",
   "language": "python",
   "name": "python3"
  },
  "language_info": {
   "codemirror_mode": {
    "name": "ipython",
    "version": 3
   },
   "file_extension": ".py",
   "mimetype": "text/x-python",
   "name": "python",
   "nbconvert_exporter": "python",
   "pygments_lexer": "ipython3",
   "version": "3.10.8"
  }
 },
 "nbformat": 4,
 "nbformat_minor": 2
}
