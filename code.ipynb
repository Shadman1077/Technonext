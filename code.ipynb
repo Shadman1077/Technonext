{
 "cells": [
  {
   "cell_type": "code",
   "execution_count": 2,
   "metadata": {},
   "outputs": [
    {
     "name": "stderr",
     "output_type": "stream",
     "text": [
      "c:\\Users\\Lenovo\\AppData\\Local\\Programs\\Python\\Python310\\lib\\site-packages\\tqdm\\auto.py:21: TqdmWarning: IProgress not found. Please update jupyter and ipywidgets. See https://ipywidgets.readthedocs.io/en/stable/user_install.html\n",
      "  from .autonotebook import tqdm as notebook_tqdm\n"
     ]
    }
   ],
   "source": [
    "import pandas as pd\n",
    "from transformers import pipeline"
   ]
  },
  {
   "cell_type": "markdown",
   "metadata": {},
   "source": [
    "# Load dataset"
   ]
  },
  {
   "cell_type": "code",
   "execution_count": 10,
   "metadata": {},
   "outputs": [],
   "source": [
    "train_data =pd.read_csv('atis_train.csv')\n",
    "train_text = train_data['text'].tolist()\n",
    "train_labels = train_data['intent'].tolist()"
   ]
  },
  {
   "cell_type": "code",
   "execution_count": 8,
   "metadata": {},
   "outputs": [],
   "source": [
    "test_data = pd.read_csv('atis_test.csv')\n",
    "test_text = test_data['text'].tolist()\n",
    "test_labels =test_data['intent'].tolist()"
   ]
  },
  {
   "cell_type": "code",
   "execution_count": 9,
   "metadata": {},
   "outputs": [
    {
     "name": "stdout",
     "output_type": "stream",
     "text": [
      "   id       intent                                               text  \\\n",
      "0   0       flight  i want to fly from boston at 838 am and arrive...   \n",
      "1   1       flight  what flights are available from pittsburgh to ...   \n",
      "2   2  flight_time  what is the arrival time in san francisco for ...   \n",
      "3   3      airfare            cheapest airfare from tacoma to orlando   \n",
      "4   4      airfare  round trip fares from pittsburgh to philadelph...   \n",
      "\n",
      "                                               slots  \n",
      "0  O O O O O B-fromloc.city_name O B-depart_time....  \n",
      "1  O O O O O B-fromloc.city_name O B-toloc.city_n...  \n",
      "2  O O O B-flight_time I-flight_time O B-fromloc....  \n",
      "3  B-cost_relative O O B-fromloc.city_name O B-to...  \n",
      "4  B-round_trip I-round_trip O O B-fromloc.city_n...  \n",
      "   id   intent                                               text  \\\n",
      "0   0   flight  i would like to find a flight from charlotte t...   \n",
      "1   1  airfare  on april first i need a ticket from tacoma to ...   \n",
      "2   2   flight  on april first i need a flight going from phoe...   \n",
      "3   3   flight  i would like a flight traveling one way from p...   \n",
      "4   4   flight  i would like a flight from orlando to salt lak...   \n",
      "\n",
      "                                               slots  \n",
      "0  O O O O O O O O B-fromloc.city_name O B-toloc....  \n",
      "1  O B-depart_date.month_name B-depart_date.day_n...  \n",
      "2  O B-depart_date.month_name B-depart_date.day_n...  \n",
      "3  O O O O O O B-round_trip I-round_trip O B-from...  \n",
      "4  O O O O O O B-fromloc.city_name O B-toloc.city...  \n"
     ]
    }
   ],
   "source": [
    "print(train_data.head())\n",
    "print(test_data.head())"
   ]
  }
 ],
 "metadata": {
  "kernelspec": {
   "display_name": "Python 3",
   "language": "python",
   "name": "python3"
  },
  "language_info": {
   "codemirror_mode": {
    "name": "ipython",
    "version": 3
   },
   "file_extension": ".py",
   "mimetype": "text/x-python",
   "name": "python",
   "nbconvert_exporter": "python",
   "pygments_lexer": "ipython3",
   "version": "3.10.8"
  }
 },
 "nbformat": 4,
 "nbformat_minor": 2
}
